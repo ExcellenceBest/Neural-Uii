{
  "nbformat": 4,
  "nbformat_minor": 0,
  "metadata": {
    "colab": {
      "provenance": [],
      "authorship_tag": "ABX9TyN7VSyaSuB6Hbyt/S9qi2oZ",
      "include_colab_link": true
    },
    "kernelspec": {
      "name": "python3",
      "display_name": "Python 3"
    },
    "language_info": {
      "name": "python"
    }
  },
  "cells": [
    {
      "cell_type": "markdown",
      "metadata": {
        "id": "view-in-github",
        "colab_type": "text"
      },
      "source": [
        "<a href=\"https://colab.research.google.com/github/ExcellenceBest/Neural-Uii/blob/master/%D0%9E%D0%9E%D0%9F.ipynb\" target=\"_parent\"><img src=\"https://colab.research.google.com/assets/colab-badge.svg\" alt=\"Open In Colab\"/></a>"
      ]
    },
    {
      "cell_type": "code",
      "source": [
        "class Rectangle():\n",
        "  def __init__(self, lenght, height):\n",
        "    self.lenght = lenght\n",
        "    self.height = height\n",
        "\n",
        "  def __str__(self):\n",
        "    return f'{self.a, self.b}'\n",
        "\n",
        "  def area(self):\n",
        "    result = self.lenght * self.height\n",
        "    return result\n",
        "\n",
        "  def perimeter(self):\n",
        "    return (self.lenght + self.height) *2"
      ],
      "metadata": {
        "id": "at9o1hHF9_Wd"
      },
      "execution_count": 1,
      "outputs": []
    },
    {
      "cell_type": "code",
      "source": [
        "rect = Rectangle(5, 10)\n",
        "print(rect.area())\n",
        "print(rect.perimeter())"
      ],
      "metadata": {
        "colab": {
          "base_uri": "https://localhost:8080/"
        },
        "id": "RfJXLO9Y-6Td",
        "outputId": "6b088364-645a-4b78-b8db-eacf31c955fd"
      },
      "execution_count": 2,
      "outputs": [
        {
          "output_type": "stream",
          "name": "stdout",
          "text": [
            "50\n",
            "30\n"
          ]
        }
      ]
    },
    {
      "cell_type": "code",
      "source": [
        "class Circle():\n",
        "  def __init__(self, radius: float):\n",
        "    self._radius = radius\n",
        "    self._diameter = radius*2\n",
        "\n",
        "  @property\n",
        "  def radius(self):\n",
        "    return f'Радиус: {self._radius}'\n",
        "\n",
        "  @property\n",
        "  def diameter(self):\n",
        "    return f'Диаметр: {self._radius*2}'\n",
        "\n",
        "  @radius.setter\n",
        "  def radius(self, radius: float):\n",
        "    self._radius = radius\n",
        "    self._diameter = radius*2\n",
        "\n",
        "  @diameter.setter\n",
        "  def diameter(self, diameter: float):\n",
        "    self._diameter = diameter\n",
        "    self._radius = round(diameter/2, 2)\n",
        "\n",
        "  def __str__(self):\n",
        "    return f'Радиус: {self._radius}, Диаметр: {self._diameter}'"
      ],
      "metadata": {
        "id": "wARPh85I-6WF"
      },
      "execution_count": 3,
      "outputs": []
    },
    {
      "cell_type": "code",
      "source": [
        "q = Circle(5.2)\n",
        "print(q)\n",
        "q.diameter = 33\n",
        "print(q)\n"
      ],
      "metadata": {
        "colab": {
          "base_uri": "https://localhost:8080/"
        },
        "id": "TMkHsMK0-6dt",
        "outputId": "990b34bf-92c3-418b-b332-c1bc07009ae4"
      },
      "execution_count": 4,
      "outputs": [
        {
          "output_type": "stream",
          "name": "stdout",
          "text": [
            "Радиус: 5.2, Диаметр: 10.4\n",
            "Радиус: 16.5, Диаметр: 33\n"
          ]
        }
      ]
    }
  ]
}